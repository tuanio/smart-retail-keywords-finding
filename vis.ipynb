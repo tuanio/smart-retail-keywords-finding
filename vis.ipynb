{
 "cells": [
  {
   "cell_type": "code",
   "execution_count": 1,
   "id": "696836f4-9801-43d7-b3f7-4c8680d81ca4",
   "metadata": {},
   "outputs": [
    {
     "name": "stderr",
     "output_type": "stream",
     "text": [
      "[nltk_data] Downloading package stopwords to\n",
      "[nltk_data]     C:\\Users\\nvatu\\AppData\\Roaming\\nltk_data...\n",
      "[nltk_data]   Package stopwords is already up-to-date!\n"
     ]
    }
   ],
   "source": [
    "import json\n",
    "import string\n",
    "import nltk\n",
    "nltk.download('stopwords')\n",
    "nltk.download('punkt')\n",
    "from nltk.tokenize import word_tokenize\n",
    "from nltk.corpus import stopwords\n",
    "import concurrent.futures as cf\n",
    "from collections import Counter"
   ]
  },
  {
   "cell_type": "code",
   "execution_count": 2,
   "id": "f4d88ec1-b693-48e7-a6d7-7e9f4e2b1209",
   "metadata": {},
   "outputs": [
    {
     "data": {
      "text/plain": [
       "6283"
      ]
     },
     "execution_count": 2,
     "metadata": {},
     "output_type": "execute_result"
    }
   ],
   "source": [
    "with open('data.json', 'r') as f:\n",
    "    data = json.load(f)\n",
    "len(data)"
   ]
  },
  {
   "cell_type": "code",
   "execution_count": 3,
   "id": "9a480a8d-f36d-4cfe-95a8-e77c94b44798",
   "metadata": {},
   "outputs": [],
   "source": [
    "punct = string.punctuation + '–’-'\n",
    "list_remove = stopwords.words('english') + list(punct)"
   ]
  },
  {
   "cell_type": "code",
   "execution_count": 4,
   "id": "3612b08d-ef8f-41bc-8b28-4b519bb8f836",
   "metadata": {},
   "outputs": [],
   "source": [
    "def catch(word):\n",
    "    if word in list_remove:\n",
    "        return False\n",
    "    try:\n",
    "        float(word)\n",
    "        return False\n",
    "    except:\n",
    "        ...\n",
    "    return True"
   ]
  },
  {
   "cell_type": "code",
   "execution_count": 5,
   "id": "47961663-48c5-44a0-933d-fbadeb8dc327",
   "metadata": {},
   "outputs": [],
   "source": [
    "def preprocess(doc):\n",
    "    data = doc['title'] + ' ' + doc['abstract']\n",
    "    data = data.lower()\n",
    "    data = word_tokenize(data)\n",
    "    data = [word for word in data if catch(word)]\n",
    "    data += [word.lower() for word in doc['keywords']]\n",
    "    return data"
   ]
  },
  {
   "cell_type": "code",
   "execution_count": 6,
   "id": "f3bfc1f9-6f0c-4911-8e24-69d2a3e96f7c",
   "metadata": {},
   "outputs": [],
   "source": [
    "with cf.ThreadPoolExecutor() as exe:\n",
    "    data_generator = exe.map(preprocess, data)"
   ]
  },
  {
   "cell_type": "code",
   "execution_count": 7,
   "id": "e54d329a-b204-47f5-b08f-281b1164437d",
   "metadata": {},
   "outputs": [
    {
     "data": {
      "text/plain": [
       "722242"
      ]
     },
     "execution_count": 7,
     "metadata": {},
     "output_type": "execute_result"
    }
   ],
   "source": [
    "corpus = []\n",
    "for i in data_generator:\n",
    "    corpus.extend(i)\n",
    "len(corpus)"
   ]
  },
  {
   "cell_type": "code",
   "execution_count": 25,
   "id": "f20c5120-ec19-4116-9aee-6ad3f46e49f0",
   "metadata": {},
   "outputs": [],
   "source": [
    "counter = Counter(corpus)"
   ]
  },
  {
   "cell_type": "code",
   "execution_count": 26,
   "id": "03e789e7-0aa6-4725-881e-490ed52753c7",
   "metadata": {},
   "outputs": [
    {
     "data": {
      "text/plain": [
       "14"
      ]
     },
     "execution_count": 26,
     "metadata": {},
     "output_type": "execute_result"
    }
   ],
   "source": [
    "with open('remove_words.txt', 'r') as f:\n",
    "    list_remove_words = f.read().split('\\n')\n",
    "len(list_remove_words)"
   ]
  },
  {
   "cell_type": "markdown",
   "id": "822e2d04-794e-49dd-89ef-5f4397e74d06",
   "metadata": {
    "tags": []
   },
   "source": [
    "# Del here"
   ]
  },
  {
   "cell_type": "code",
   "execution_count": 27,
   "id": "57063287-3ac3-4376-9abe-37ac037db554",
   "metadata": {},
   "outputs": [],
   "source": [
    "for word in list_remove_words:\n",
    "    if word in counter:\n",
    "        del counter[word]\n",
    "    else:\n",
    "        print(f\"Từ {word} không nằm trong corpus\")"
   ]
  },
  {
   "cell_type": "code",
   "execution_count": 28,
   "id": "2416eb9c-e416-4f97-89ca-ceaeeb2bb2b5",
   "metadata": {},
   "outputs": [
    {
     "data": {
      "text/plain": [
       "[('smart', 9747),\n",
       " ('energy', 7024),\n",
       " ('retail', 5236),\n",
       " ('electricity', 3370),\n",
       " ('system', 3274),\n",
       " ('market', 2763),\n",
       " ('model', 2721),\n",
       " ('research', 2710),\n",
       " ('demand', 2627),\n",
       " ('grid', 2571),\n",
       " ('technology', 2534),\n",
       " ('new', 2506),\n",
       " ('consumers', 2413),\n",
       " ('technologies', 2398),\n",
       " ('power', 2204),\n",
       " ('based', 2109),\n",
       " ('management', 2073),\n",
       " ('information', 1877),\n",
       " ('development', 1839),\n",
       " ('consumer', 1760),\n",
       " ('supply', 1726),\n",
       " ('analysis', 1724),\n",
       " ('customer', 1707),\n",
       " ('iot', 1622),\n",
       " ('future', 1504),\n",
       " ('industry', 1485),\n",
       " ('service', 1480),\n",
       " ('framework', 1443),\n",
       " ('approach', 1415),\n",
       " ('retailing', 1386),\n",
       " ('urban', 1349),\n",
       " ('business', 1340),\n",
       " ('value', 1337),\n",
       " ('cities', 1321),\n",
       " ('retailers', 1317),\n",
       " ('challenges', 1295),\n",
       " ('city', 1290),\n",
       " ('cost', 1253),\n",
       " ('distribution', 1233),\n",
       " ('however', 1232)]"
      ]
     },
     "execution_count": 28,
     "metadata": {},
     "output_type": "execute_result"
    }
   ],
   "source": [
    "most_common = counter.most_common(40)\n",
    "most_common"
   ]
  },
  {
   "cell_type": "code",
   "execution_count": 29,
   "id": "d9f6ea40-b873-428c-b1bb-338668c6d4c4",
   "metadata": {},
   "outputs": [],
   "source": [
    "import pickle"
   ]
  },
  {
   "cell_type": "code",
   "execution_count": 30,
   "id": "cc25d9b2-2837-42f5-984e-37c9cecf0143",
   "metadata": {},
   "outputs": [],
   "source": [
    "with open('common.pkl', 'wb') as f:\n",
    "    pickle.dump(most_common, f)"
   ]
  },
  {
   "cell_type": "code",
   "execution_count": null,
   "id": "4bd90b44-7db1-4744-9e0d-52c5b0341874",
   "metadata": {},
   "outputs": [],
   "source": []
  }
 ],
 "metadata": {
  "kernelspec": {
   "display_name": "Python 3 (ipykernel)",
   "language": "python",
   "name": "python3"
  },
  "language_info": {
   "codemirror_mode": {
    "name": "ipython",
    "version": 3
   },
   "file_extension": ".py",
   "mimetype": "text/x-python",
   "name": "python",
   "nbconvert_exporter": "python",
   "pygments_lexer": "ipython3",
   "version": "3.9.7"
  }
 },
 "nbformat": 4,
 "nbformat_minor": 5
}
