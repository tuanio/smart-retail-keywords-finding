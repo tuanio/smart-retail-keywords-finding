{
 "cells": [
  {
   "cell_type": "code",
   "execution_count": 1,
   "id": "3575e2dd-3309-4dac-8e60-de963a749794",
   "metadata": {},
   "outputs": [],
   "source": [
    "import yaml\n",
    "from selenium import webdriver\n",
    "from selenium import webdriver\n",
    "from selenium.webdriver.common.by import By\n",
    "from selenium.webdriver.support.ui import WebDriverWait\n",
    "from selenium.webdriver.support import expected_conditions as EC\n",
    "import time\n",
    "import json"
   ]
  },
  {
   "cell_type": "code",
   "execution_count": 2,
   "id": "89ad8d0b-582a-44a9-9eb9-86b89b680330",
   "metadata": {},
   "outputs": [
    {
     "data": {
      "text/plain": [
       "{'auth': {'email': '19497581.tuan@student.iuh.edu.vn', 'pass': 'Tuan1211'},\n",
       " 'waiting_time': 240,\n",
       " 'sign_in_url': 'https://id.elsevier.com/as/authorization.oauth2?platSite=SD%2Fscience&scope=openid%20email%20profile%20els_auth_info%20els_idp_info%20els_idp_analytics_attrs%20els_sa_discover%20urn%3Acom%3Aelsevier%3Aidp%3Apolicy%3Aproduct%3Aindv_identity&response_type=code&redirect_uri=https%3A%2F%2Fwww.sciencedirect.com%2Fuser%2Fidentity%2Flanding&authType=SINGLE_SIGN_IN&prompt=login&client_id=SDFE-v3&state=retryCounter%3D0%26csrfToken%3Dcabfefe6-cfd0-4aaa-ab9a-6b4ab254ecb8%26idpPolicy%3Durn%253Acom%253Aelsevier%253Aidp%253Apolicy%253Aproduct%253Aindv_identity%26returnUrl%3D%252Fsearch%253Foffset%253D5900%2526qs%253Dsmart%252520retailing%2526show%253D100%26prompt%3Dlogin%26cid%3Datp-68519aa1-e6ba-4ab5-b45b-fd75c991b759',\n",
       " 'url': 'https://www.sciencedirect.com/search?qs=smart%20retailing&show=100&offset={}'}"
      ]
     },
     "execution_count": 2,
     "metadata": {},
     "output_type": "execute_result"
    }
   ],
   "source": [
    "with open('configs.yaml', 'r', encoding='utf-8') as stream:\n",
    "    try:\n",
    "        configs = yaml.safe_load(stream)\n",
    "    except Exception as e:\n",
    "        print(\"Có lỗi xảy ra khi đọc file configs.yaml\")\n",
    "        print(str(e))\n",
    "configs"
   ]
  },
  {
   "cell_type": "code",
   "execution_count": 3,
   "id": "006311fd-132f-4da1-afaf-e599d056118c",
   "metadata": {},
   "outputs": [
    {
     "data": {
      "text/plain": [
       "'https://www.sciencedirect.com/search?qs=smart%20retailing&show=100&offset=100'"
      ]
     },
     "execution_count": 3,
     "metadata": {},
     "output_type": "execute_result"
    }
   ],
   "source": [
    "url = configs['url'].format(100)\n",
    "url"
   ]
  },
  {
   "cell_type": "code",
   "execution_count": 4,
   "id": "ebc6826b-3282-479f-bee7-0cd3928b52be",
   "metadata": {},
   "outputs": [],
   "source": [
    "driver = webdriver.Chrome()"
   ]
  },
  {
   "cell_type": "code",
   "execution_count": 5,
   "id": "25d842b7-8c93-40ac-afa7-3c9723b51e60",
   "metadata": {},
   "outputs": [],
   "source": [
    "def find_element(css_selector):\n",
    "    return driver.find_element(By.CSS_SELECTOR, css_selector)\n",
    "\n",
    "def find_elements(css_selector):\n",
    "    return driver.find_elements(By.CSS_SELECTOR, css_selector)\n",
    "\n",
    "def waiting(css_selector, time=5):\n",
    "    return WebDriverWait(driver, time).until(\n",
    "        EC.presence_of_element_located((By.CSS_SELECTOR, css_selector))\n",
    "    )\n",
    "\n",
    "def scroll_bottom():\n",
    "    driver.execute_script(\"window.scrollTo(0, document.body.scrollHeight);\")"
   ]
  },
  {
   "cell_type": "code",
   "execution_count": 6,
   "id": "7a4ae858-0a2f-4cb0-abe9-4e225ce2a879",
   "metadata": {},
   "outputs": [],
   "source": [
    "driver.get(configs['sign_in_url'])"
   ]
  },
  {
   "cell_type": "code",
   "execution_count": 7,
   "id": "f3c927f7-2c13-443c-9b29-00a17c14e7dd",
   "metadata": {},
   "outputs": [],
   "source": [
    "find_element('input#bdd-email').send_keys(configs['auth']['email'])\n",
    "find_element('button#bdd-elsPrimaryBtn').click()\n",
    "time.sleep(1)\n",
    "find_element('input#bdd-password').send_keys(configs['auth']['pass'])\n",
    "find_element('button#bdd-elsPrimaryBtn').click()"
   ]
  },
  {
   "cell_type": "markdown",
   "id": "25b786c2-6dc7-4181-a6e4-1e11b5f03c1f",
   "metadata": {},
   "source": [
    "# Get urls"
   ]
  },
  {
   "cell_type": "code",
   "execution_count": 8,
   "id": "9dcaaca7-3b95-4ab2-acac-0c92c368b041",
   "metadata": {},
   "outputs": [],
   "source": [
    "# %%time\n",
    "\n",
    "# list_urls = []\n",
    "# for i in range(60):\n",
    "#     url = configs['url'].format(i * 100)\n",
    "#     driver.get(url)\n",
    "#     href_css = 'a.result-list-title-link.u-font-serif.text-s'\n",
    "#     try:\n",
    "#         waiting(href_css)\n",
    "#         list_elements = find_elements(href_css)\n",
    "#         list_elements = list(map(lambda x: x.get_attribute('href'), list_elements))\n",
    "#         list_urls.extend(list_elements)\n",
    "#     except:\n",
    "#         print(\"Done\")\n",
    "#         break\n",
    "\n",
    "# with open('list_urls.json', 'w') as f:\n",
    "#     json.dump(list_urls, f, indent=4)"
   ]
  },
  {
   "cell_type": "code",
   "execution_count": 9,
   "id": "fa95bc6c-36ca-4eb8-b397-0806e4e1ac48",
   "metadata": {},
   "outputs": [
    {
     "data": {
      "text/plain": [
       "6000"
      ]
     },
     "execution_count": 9,
     "metadata": {},
     "output_type": "execute_result"
    }
   ],
   "source": [
    "with open('list_urls.json', 'r') as f:\n",
    "    list_urls = json.load(f)\n",
    "    \n",
    "len(list_urls)"
   ]
  },
  {
   "cell_type": "code",
   "execution_count": 10,
   "id": "f3bd6d97-8e7a-43c8-b423-efbc9beb677f",
   "metadata": {},
   "outputs": [],
   "source": [
    "def get_a_source(url):\n",
    "    driver.get(url)\n",
    "    scroll_bottom()\n",
    "    try:\n",
    "        title = waiting('span.title-text').text\n",
    "    except:\n",
    "        title = ''\n",
    "    try:\n",
    "        abstract = waiting('div.abstract.author > div > p').text\n",
    "    except:\n",
    "        abstract = ''\n",
    "    try:\n",
    "        keywords = find_elements('div.keyword')\n",
    "        keywords = list(map(lambda x: x.text, keywords))\n",
    "    except:\n",
    "        keywords = []\n",
    "    data = dict(\n",
    "        title=title,\n",
    "        abstract=abstract,\n",
    "        keywords=keywords\n",
    "    )\n",
    "    return data"
   ]
  },
  {
   "cell_type": "code",
   "execution_count": 11,
   "id": "bce66e79-a1a1-4241-9c19-7f01866d4fff",
   "metadata": {},
   "outputs": [
    {
     "data": {
      "text/plain": [
       "5306"
      ]
     },
     "execution_count": 11,
     "metadata": {},
     "output_type": "execute_result"
    }
   ],
   "source": [
    "with open('data.json', 'r') as f:\n",
    "    data = json.load(f)\n",
    "len(data)"
   ]
  },
  {
   "cell_type": "code",
   "execution_count": 12,
   "id": "8dda7794-d0a6-4552-9b50-cdfc0527d842",
   "metadata": {},
   "outputs": [],
   "source": [
    "import sys\n",
    "import os"
   ]
  },
  {
   "cell_type": "code",
   "execution_count": 13,
   "id": "a9bb536a-0d16-4130-b5d1-93acefce08cc",
   "metadata": {},
   "outputs": [
    {
     "name": "stdout",
     "output_type": "stream",
     "text": [
      "Get source 6284\r"
     ]
    },
    {
     "ename": "WebDriverException",
     "evalue": "Message: chrome not reachable\n  (Session info: chrome=99.0.4844.74)\nStacktrace:\nBacktrace:\n\tOrdinal0 [0x003F69A3+2582947]\n\tOrdinal0 [0x0038A6D1+2139857]\n\tOrdinal0 [0x00283960+1063264]\n\tOrdinal0 [0x00278092+1015954]\n\tOrdinal0 [0x002788C8+1018056]\n\tOrdinal0 [0x0027A102+1024258]\n\tOrdinal0 [0x00273DE9+998889]\n\tOrdinal0 [0x00284DD0+1068496]\n\tOrdinal0 [0x002D7B12+1407762]\n\tOrdinal0 [0x002C8366+1344358]\n\tOrdinal0 [0x002A5176+1200502]\n\tOrdinal0 [0x002A6066+1204326]\n\tGetHandleVerifier [0x0059BE02+1675858]\n\tGetHandleVerifier [0x0065036C+2414524]\n\tGetHandleVerifier [0x0048BB01+560977]\n\tGetHandleVerifier [0x0048A8D3+556323]\n\tOrdinal0 [0x0039020E+2163214]\n\tOrdinal0 [0x00395078+2183288]\n\tOrdinal0 [0x003951C0+2183616]\n\tOrdinal0 [0x0039EE1C+2223644]\n\tBaseThreadInitThunk [0x75B36739+25]\n\tRtlGetFullPathName_UEx [0x77848E7F+1215]\n\tRtlGetFullPathName_UEx [0x77848E4D+1165]\n",
     "output_type": "error",
     "traceback": [
      "\u001b[1;31m---------------------------------------------------------------------------\u001b[0m",
      "\u001b[1;31mWebDriverException\u001b[0m                        Traceback (most recent call last)",
      "\u001b[1;32m<timed exec>\u001b[0m in \u001b[0;36m<module>\u001b[1;34m\u001b[0m\n",
      "\u001b[1;32m~\\AppData\\Local\\Temp/ipykernel_5352/1395874392.py\u001b[0m in \u001b[0;36mget_a_source\u001b[1;34m(url)\u001b[0m\n\u001b[0;32m      1\u001b[0m \u001b[1;32mdef\u001b[0m \u001b[0mget_a_source\u001b[0m\u001b[1;33m(\u001b[0m\u001b[0murl\u001b[0m\u001b[1;33m)\u001b[0m\u001b[1;33m:\u001b[0m\u001b[1;33m\u001b[0m\u001b[1;33m\u001b[0m\u001b[0m\n\u001b[1;32m----> 2\u001b[1;33m     \u001b[0mdriver\u001b[0m\u001b[1;33m.\u001b[0m\u001b[0mget\u001b[0m\u001b[1;33m(\u001b[0m\u001b[0murl\u001b[0m\u001b[1;33m)\u001b[0m\u001b[1;33m\u001b[0m\u001b[1;33m\u001b[0m\u001b[0m\n\u001b[0m\u001b[0;32m      3\u001b[0m     \u001b[0mscroll_bottom\u001b[0m\u001b[1;33m(\u001b[0m\u001b[1;33m)\u001b[0m\u001b[1;33m\u001b[0m\u001b[1;33m\u001b[0m\u001b[0m\n\u001b[0;32m      4\u001b[0m     \u001b[1;32mtry\u001b[0m\u001b[1;33m:\u001b[0m\u001b[1;33m\u001b[0m\u001b[1;33m\u001b[0m\u001b[0m\n\u001b[0;32m      5\u001b[0m         \u001b[0mtitle\u001b[0m \u001b[1;33m=\u001b[0m \u001b[0mwaiting\u001b[0m\u001b[1;33m(\u001b[0m\u001b[1;34m'span.title-text'\u001b[0m\u001b[1;33m)\u001b[0m\u001b[1;33m.\u001b[0m\u001b[0mtext\u001b[0m\u001b[1;33m\u001b[0m\u001b[1;33m\u001b[0m\u001b[0m\n",
      "\u001b[1;32m~\\anaconda3\\lib\\site-packages\\selenium\\webdriver\\remote\\webdriver.py\u001b[0m in \u001b[0;36mget\u001b[1;34m(self, url)\u001b[0m\n\u001b[0;32m    435\u001b[0m         \u001b[0mLoads\u001b[0m \u001b[0ma\u001b[0m \u001b[0mweb\u001b[0m \u001b[0mpage\u001b[0m \u001b[1;32min\u001b[0m \u001b[0mthe\u001b[0m \u001b[0mcurrent\u001b[0m \u001b[0mbrowser\u001b[0m \u001b[0msession\u001b[0m\u001b[1;33m.\u001b[0m\u001b[1;33m\u001b[0m\u001b[1;33m\u001b[0m\u001b[0m\n\u001b[0;32m    436\u001b[0m         \"\"\"\n\u001b[1;32m--> 437\u001b[1;33m         \u001b[0mself\u001b[0m\u001b[1;33m.\u001b[0m\u001b[0mexecute\u001b[0m\u001b[1;33m(\u001b[0m\u001b[0mCommand\u001b[0m\u001b[1;33m.\u001b[0m\u001b[0mGET\u001b[0m\u001b[1;33m,\u001b[0m \u001b[1;33m{\u001b[0m\u001b[1;34m'url'\u001b[0m\u001b[1;33m:\u001b[0m \u001b[0murl\u001b[0m\u001b[1;33m}\u001b[0m\u001b[1;33m)\u001b[0m\u001b[1;33m\u001b[0m\u001b[1;33m\u001b[0m\u001b[0m\n\u001b[0m\u001b[0;32m    438\u001b[0m \u001b[1;33m\u001b[0m\u001b[0m\n\u001b[0;32m    439\u001b[0m     \u001b[1;33m@\u001b[0m\u001b[0mproperty\u001b[0m\u001b[1;33m\u001b[0m\u001b[1;33m\u001b[0m\u001b[0m\n",
      "\u001b[1;32m~\\anaconda3\\lib\\site-packages\\selenium\\webdriver\\remote\\webdriver.py\u001b[0m in \u001b[0;36mexecute\u001b[1;34m(self, driver_command, params)\u001b[0m\n\u001b[0;32m    423\u001b[0m         \u001b[0mresponse\u001b[0m \u001b[1;33m=\u001b[0m \u001b[0mself\u001b[0m\u001b[1;33m.\u001b[0m\u001b[0mcommand_executor\u001b[0m\u001b[1;33m.\u001b[0m\u001b[0mexecute\u001b[0m\u001b[1;33m(\u001b[0m\u001b[0mdriver_command\u001b[0m\u001b[1;33m,\u001b[0m \u001b[0mparams\u001b[0m\u001b[1;33m)\u001b[0m\u001b[1;33m\u001b[0m\u001b[1;33m\u001b[0m\u001b[0m\n\u001b[0;32m    424\u001b[0m         \u001b[1;32mif\u001b[0m \u001b[0mresponse\u001b[0m\u001b[1;33m:\u001b[0m\u001b[1;33m\u001b[0m\u001b[1;33m\u001b[0m\u001b[0m\n\u001b[1;32m--> 425\u001b[1;33m             \u001b[0mself\u001b[0m\u001b[1;33m.\u001b[0m\u001b[0merror_handler\u001b[0m\u001b[1;33m.\u001b[0m\u001b[0mcheck_response\u001b[0m\u001b[1;33m(\u001b[0m\u001b[0mresponse\u001b[0m\u001b[1;33m)\u001b[0m\u001b[1;33m\u001b[0m\u001b[1;33m\u001b[0m\u001b[0m\n\u001b[0m\u001b[0;32m    426\u001b[0m             response['value'] = self._unwrap_value(\n\u001b[0;32m    427\u001b[0m                 response.get('value', None))\n",
      "\u001b[1;32m~\\anaconda3\\lib\\site-packages\\selenium\\webdriver\\remote\\errorhandler.py\u001b[0m in \u001b[0;36mcheck_response\u001b[1;34m(self, response)\u001b[0m\n\u001b[0;32m    245\u001b[0m                 \u001b[0malert_text\u001b[0m \u001b[1;33m=\u001b[0m \u001b[0mvalue\u001b[0m\u001b[1;33m[\u001b[0m\u001b[1;34m'alert'\u001b[0m\u001b[1;33m]\u001b[0m\u001b[1;33m.\u001b[0m\u001b[0mget\u001b[0m\u001b[1;33m(\u001b[0m\u001b[1;34m'text'\u001b[0m\u001b[1;33m)\u001b[0m\u001b[1;33m\u001b[0m\u001b[1;33m\u001b[0m\u001b[0m\n\u001b[0;32m    246\u001b[0m             \u001b[1;32mraise\u001b[0m \u001b[0mexception_class\u001b[0m\u001b[1;33m(\u001b[0m\u001b[0mmessage\u001b[0m\u001b[1;33m,\u001b[0m \u001b[0mscreen\u001b[0m\u001b[1;33m,\u001b[0m \u001b[0mstacktrace\u001b[0m\u001b[1;33m,\u001b[0m \u001b[0malert_text\u001b[0m\u001b[1;33m)\u001b[0m  \u001b[1;31m# type: ignore[call-arg]  # mypy is not smart enough here\u001b[0m\u001b[1;33m\u001b[0m\u001b[1;33m\u001b[0m\u001b[0m\n\u001b[1;32m--> 247\u001b[1;33m         \u001b[1;32mraise\u001b[0m \u001b[0mexception_class\u001b[0m\u001b[1;33m(\u001b[0m\u001b[0mmessage\u001b[0m\u001b[1;33m,\u001b[0m \u001b[0mscreen\u001b[0m\u001b[1;33m,\u001b[0m \u001b[0mstacktrace\u001b[0m\u001b[1;33m)\u001b[0m\u001b[1;33m\u001b[0m\u001b[1;33m\u001b[0m\u001b[0m\n\u001b[0m\u001b[0;32m    248\u001b[0m \u001b[1;33m\u001b[0m\u001b[0m\n\u001b[0;32m    249\u001b[0m     \u001b[1;32mdef\u001b[0m \u001b[0m_value_or_default\u001b[0m\u001b[1;33m(\u001b[0m\u001b[0mself\u001b[0m\u001b[1;33m,\u001b[0m \u001b[0mobj\u001b[0m\u001b[1;33m:\u001b[0m \u001b[0mMapping\u001b[0m\u001b[1;33m[\u001b[0m\u001b[0m_KT\u001b[0m\u001b[1;33m,\u001b[0m \u001b[0m_VT\u001b[0m\u001b[1;33m]\u001b[0m\u001b[1;33m,\u001b[0m \u001b[0mkey\u001b[0m\u001b[1;33m:\u001b[0m \u001b[0m_KT\u001b[0m\u001b[1;33m,\u001b[0m \u001b[0mdefault\u001b[0m\u001b[1;33m:\u001b[0m \u001b[0m_VT\u001b[0m\u001b[1;33m)\u001b[0m \u001b[1;33m->\u001b[0m \u001b[0m_VT\u001b[0m\u001b[1;33m:\u001b[0m\u001b[1;33m\u001b[0m\u001b[1;33m\u001b[0m\u001b[0m\n",
      "\u001b[1;31mWebDriverException\u001b[0m: Message: chrome not reachable\n  (Session info: chrome=99.0.4844.74)\nStacktrace:\nBacktrace:\n\tOrdinal0 [0x003F69A3+2582947]\n\tOrdinal0 [0x0038A6D1+2139857]\n\tOrdinal0 [0x00283960+1063264]\n\tOrdinal0 [0x00278092+1015954]\n\tOrdinal0 [0x002788C8+1018056]\n\tOrdinal0 [0x0027A102+1024258]\n\tOrdinal0 [0x00273DE9+998889]\n\tOrdinal0 [0x00284DD0+1068496]\n\tOrdinal0 [0x002D7B12+1407762]\n\tOrdinal0 [0x002C8366+1344358]\n\tOrdinal0 [0x002A5176+1200502]\n\tOrdinal0 [0x002A6066+1204326]\n\tGetHandleVerifier [0x0059BE02+1675858]\n\tGetHandleVerifier [0x0065036C+2414524]\n\tGetHandleVerifier [0x0048BB01+560977]\n\tGetHandleVerifier [0x0048A8D3+556323]\n\tOrdinal0 [0x0039020E+2163214]\n\tOrdinal0 [0x00395078+2183288]\n\tOrdinal0 [0x003951C0+2183616]\n\tOrdinal0 [0x0039EE1C+2223644]\n\tBaseThreadInitThunk [0x75B36739+25]\n\tRtlGetFullPathName_UEx [0x77848E7F+1215]\n\tRtlGetFullPathName_UEx [0x77848E4D+1165]\n"
     ]
    }
   ],
   "source": [
    "%%time\n",
    "\n",
    "last_epoch = len(data)\n",
    "for idx, url in enumerate(last_epoch, list_urls):\n",
    "    print(f'Get source {idx + 1}', end='\\r')\n",
    "    datum = get_a_source(url)\n",
    "    data.append(datum)"
   ]
  },
  {
   "cell_type": "code",
   "execution_count": 14,
   "id": "8bb0bfd7-e334-4cc9-8d32-288f1dedff0e",
   "metadata": {},
   "outputs": [],
   "source": [
    "with open('data.json', 'w') as f:\n",
    "    json.dump(data, f, indent=4)"
   ]
  },
  {
   "cell_type": "code",
   "execution_count": 15,
   "id": "01bbe935-e670-4368-8140-d0eed95abde8",
   "metadata": {},
   "outputs": [],
   "source": [
    "import datetime"
   ]
  },
  {
   "cell_type": "code",
   "execution_count": 16,
   "id": "a2a74b29-0597-4266-8de3-03f7650f335c",
   "metadata": {},
   "outputs": [
    {
     "data": {
      "text/plain": [
       "datetime.datetime(2022, 3, 17, 7, 23, 53, 733633)"
      ]
     },
     "execution_count": 16,
     "metadata": {},
     "output_type": "execute_result"
    }
   ],
   "source": [
    "datetime.datetime.now()"
   ]
  },
  {
   "cell_type": "code",
   "execution_count": null,
   "id": "d4a53339-0571-4bd2-b117-aed1c0b37a71",
   "metadata": {},
   "outputs": [],
   "source": []
  }
 ],
 "metadata": {
  "kernelspec": {
   "display_name": "Python 3 (ipykernel)",
   "language": "python",
   "name": "python3"
  },
  "language_info": {
   "codemirror_mode": {
    "name": "ipython",
    "version": 3
   },
   "file_extension": ".py",
   "mimetype": "text/x-python",
   "name": "python",
   "nbconvert_exporter": "python",
   "pygments_lexer": "ipython3",
   "version": "3.9.7"
  }
 },
 "nbformat": 4,
 "nbformat_minor": 5
}
